{
 "cells": [
  {
   "cell_type": "markdown",
   "id": "3dc3f953",
   "metadata": {},
   "source": [
    "# ANOVA-TEST(f-test) in python(Assignment)"
   ]
  },
  {
   "cell_type": "markdown",
   "id": "f3411b99",
   "metadata": {},
   "source": [
    "One-Way ANOVA in Python: One-way ANOVA (also known as “analysis of variance”) is a test that is used to find out whether there exists a statistically significant difference between the mean values of more than one group.\n",
    "\n",
    "Hypothesis involved:\n",
    "A one-way ANOVA has the below given null and alternative hypotheses:\n",
    "\n",
    "H0 (null hypothesis): μ1 = μ2 = μ3 = … = μk (It implies that the means of all the population are equal)\n",
    "H1 (null hypothesis): It states that there will be at least one population mean that differs from the rest\n",
    "\n",
    "Statement:\n",
    "Researchers took 20 cars of the same to take part in a study. These cars are randomly doped with one of the four-engine oils and allowed to run freely for 100 kilometers each. At the end of the journey, the performance of each of the cars is noted. Before proceeding further we need to install the SciPy library in our system. You can install this library by using the below command in the terminal:"
   ]
  },
  {
   "cell_type": "code",
   "execution_count": 1,
   "id": "ab3cc3da",
   "metadata": {},
   "outputs": [],
   "source": [
    "from scipy.stats import f_oneway"
   ]
  },
  {
   "cell_type": "code",
   "execution_count": 2,
   "id": "77253cb2",
   "metadata": {},
   "outputs": [],
   "source": [
    "# Performance when each of the engine\n",
    "# oil is applied\n",
    "performance1 = [89, 89, 88, 78, 79]\n",
    "performance2 = [93, 92, 94, 89, 88]\n",
    "performance3 = [89, 88, 89, 93, 90]\n",
    "performance4 = [81, 78, 81, 92, 82]"
   ]
  },
  {
   "cell_type": "code",
   "execution_count": 3,
   "id": "a2c046a4",
   "metadata": {},
   "outputs": [
    {
     "data": {
      "text/plain": [
       "F_onewayResult(statistic=4.625000000000002, pvalue=0.016336459839780215)"
      ]
     },
     "execution_count": 3,
     "metadata": {},
     "output_type": "execute_result"
    }
   ],
   "source": [
    "# Conduct the one-way ANOVA\n",
    "f_oneway(performance1, performance2, performance3, performance4)"
   ]
  },
  {
   "cell_type": "markdown",
   "id": "68409741",
   "metadata": {},
   "source": [
    "Step 3: Analyse the result:\n",
    "\n",
    "The F statistic and p-value turn out to be equal to 4.625 and 0.016336498 respectively. Since the p-value is less than 0.05 hence we would reject the null hypothesis. This implies that we have sufficient proof to say that there exists a difference in the performance among four different engine oils. "
   ]
  },
  {
   "cell_type": "markdown",
   "id": "db3f00f0",
   "metadata": {},
   "source": [
    "# Performing a Two-Way ANOVA in Python:"
   ]
  },
  {
   "cell_type": "code",
   "execution_count": 4,
   "id": "44921774",
   "metadata": {},
   "outputs": [
    {
     "name": "stdout",
     "output_type": "stream",
     "text": [
      "                             df     sum_sq   mean_sq         F    PR(>F)\n",
      "C(Fertilizer)               1.0   0.033333  0.033333  0.012069  0.913305\n",
      "C(Watering)                 1.0   1.027463  1.027463  0.372012  0.546828\n",
      "C(Fertilizer):C(Watering)   1.0   0.577010  0.577010  0.208918  0.651144\n",
      "Residual                   28.0  77.333333  2.761905       NaN       NaN\n"
     ]
    }
   ],
   "source": [
    "# Importing libraries\n",
    "import pandas as pd\n",
    "import numpy as np\n",
    "import statsmodels.api as sm\n",
    "from statsmodels.formula.api import ols\n",
    "\n",
    "# Create a dataframe\n",
    "dataframe = pd.DataFrame({ 'Fertilizer': np.repeat(['daily', 'weekly'], 15),\n",
    "                           'Watering': np.repeat(['daily', 'weekly'], 15),\n",
    "                           'height': [14, 16, 15, 15, 16, 13, 12, 11,\n",
    "                                      14, 15, 16, 16, 17, 18, 14, 13,\n",
    "                                      14, 14, 14, 15, 16, 16, 17, 18,\n",
    "                                      14, 13, 14, 14, 14, 15]})\n",
    "\n",
    "\n",
    "# Performing two-way ANOVA\n",
    "model = ols('height ~ C(Fertilizer) + C(Watering) +\\\n",
    "C(Fertilizer):C(Watering)',\n",
    "              data=dataframe).fit()\n",
    "result = sm.stats.anova_lm(model, type=2)\n",
    "\n",
    "# Print the result\n",
    "print(result)\n"
   ]
  },
  {
   "cell_type": "markdown",
   "id": "da5d1955",
   "metadata": {},
   "source": [
    "# Analysis for Variance:\n",
    "ANOVA is an extension of independent t test for testing the equality of two population means.\n",
    "\n",
    "When we to compare more than 2 population means, we use ANOVA.\n",
    "\n",
    "Typically the Null Hypothesis H0: u1 = u2 = u3 = uk for testing population means for K population.\n",
    "\n",
    "Prerequisties for ANOVA testing:\n",
    "\n",
    "a) The samples drawn from different populations are independent and random.\n",
    "\n",
    "b) The response variables of all the populations are normally distrubuted.\n",
    "\n",
    "c) The variances of all populations are equal.\n",
    "\n"
   ]
  },
  {
   "cell_type": "code",
   "execution_count": 5,
   "id": "3c870625",
   "metadata": {},
   "outputs": [
    {
     "data": {
      "text/html": [
       "<div>\n",
       "<style scoped>\n",
       "    .dataframe tbody tr th:only-of-type {\n",
       "        vertical-align: middle;\n",
       "    }\n",
       "\n",
       "    .dataframe tbody tr th {\n",
       "        vertical-align: top;\n",
       "    }\n",
       "\n",
       "    .dataframe thead th {\n",
       "        text-align: right;\n",
       "    }\n",
       "</style>\n",
       "<table border=\"1\" class=\"dataframe\">\n",
       "  <thead>\n",
       "    <tr style=\"text-align: right;\">\n",
       "      <th></th>\n",
       "      <th>sepal_length</th>\n",
       "      <th>sepal_width</th>\n",
       "      <th>petal_length</th>\n",
       "      <th>petal_width</th>\n",
       "      <th>species</th>\n",
       "    </tr>\n",
       "  </thead>\n",
       "  <tbody>\n",
       "    <tr>\n",
       "      <th>0</th>\n",
       "      <td>5.1</td>\n",
       "      <td>3.5</td>\n",
       "      <td>1.4</td>\n",
       "      <td>0.2</td>\n",
       "      <td>setosa</td>\n",
       "    </tr>\n",
       "    <tr>\n",
       "      <th>1</th>\n",
       "      <td>4.9</td>\n",
       "      <td>3.0</td>\n",
       "      <td>1.4</td>\n",
       "      <td>0.2</td>\n",
       "      <td>setosa</td>\n",
       "    </tr>\n",
       "    <tr>\n",
       "      <th>2</th>\n",
       "      <td>4.7</td>\n",
       "      <td>3.2</td>\n",
       "      <td>1.3</td>\n",
       "      <td>0.2</td>\n",
       "      <td>setosa</td>\n",
       "    </tr>\n",
       "    <tr>\n",
       "      <th>3</th>\n",
       "      <td>4.6</td>\n",
       "      <td>3.1</td>\n",
       "      <td>1.5</td>\n",
       "      <td>0.2</td>\n",
       "      <td>setosa</td>\n",
       "    </tr>\n",
       "    <tr>\n",
       "      <th>4</th>\n",
       "      <td>5.0</td>\n",
       "      <td>3.6</td>\n",
       "      <td>1.4</td>\n",
       "      <td>0.2</td>\n",
       "      <td>setosa</td>\n",
       "    </tr>\n",
       "  </tbody>\n",
       "</table>\n",
       "</div>"
      ],
      "text/plain": [
       "   sepal_length  sepal_width  petal_length  petal_width species\n",
       "0           5.1          3.5           1.4          0.2  setosa\n",
       "1           4.9          3.0           1.4          0.2  setosa\n",
       "2           4.7          3.2           1.3          0.2  setosa\n",
       "3           4.6          3.1           1.5          0.2  setosa\n",
       "4           5.0          3.6           1.4          0.2  setosa"
      ]
     },
     "execution_count": 5,
     "metadata": {},
     "output_type": "execute_result"
    }
   ],
   "source": [
    "\n",
    "import numpy as np\n",
    "import matplotlib.pyplot as plt\n",
    "# ^^^ pyforest auto-imports - don't write above this line\n",
    "import seaborn as sns \n",
    "\n",
    "iris = sns.load_dataset(\"iris\")\n",
    "iris.head()"
   ]
  },
  {
   "cell_type": "code",
   "execution_count": 7,
   "id": "fa7f5453",
   "metadata": {},
   "outputs": [],
   "source": [
    "#perform one-way test F-Test \n",
    "\n",
    "import scipy.stats as stats \n",
    "import pandas as pd"
   ]
  },
  {
   "cell_type": "code",
   "execution_count": 9,
   "id": "84fb8a93",
   "metadata": {},
   "outputs": [
    {
     "data": {
      "text/html": [
       "<div>\n",
       "<style scoped>\n",
       "    .dataframe tbody tr th:only-of-type {\n",
       "        vertical-align: middle;\n",
       "    }\n",
       "\n",
       "    .dataframe tbody tr th {\n",
       "        vertical-align: top;\n",
       "    }\n",
       "\n",
       "    .dataframe thead th {\n",
       "        text-align: right;\n",
       "    }\n",
       "</style>\n",
       "<table border=\"1\" class=\"dataframe\">\n",
       "  <thead>\n",
       "    <tr style=\"text-align: right;\">\n",
       "      <th></th>\n",
       "      <th>sepal_width</th>\n",
       "      <th>species</th>\n",
       "    </tr>\n",
       "  </thead>\n",
       "  <tbody>\n",
       "    <tr>\n",
       "      <th>0</th>\n",
       "      <td>3.5</td>\n",
       "      <td>setosa</td>\n",
       "    </tr>\n",
       "    <tr>\n",
       "      <th>1</th>\n",
       "      <td>3.0</td>\n",
       "      <td>setosa</td>\n",
       "    </tr>\n",
       "    <tr>\n",
       "      <th>2</th>\n",
       "      <td>3.2</td>\n",
       "      <td>setosa</td>\n",
       "    </tr>\n",
       "    <tr>\n",
       "      <th>3</th>\n",
       "      <td>3.1</td>\n",
       "      <td>setosa</td>\n",
       "    </tr>\n",
       "    <tr>\n",
       "      <th>4</th>\n",
       "      <td>3.6</td>\n",
       "      <td>setosa</td>\n",
       "    </tr>\n",
       "  </tbody>\n",
       "</table>\n",
       "</div>"
      ],
      "text/plain": [
       "   sepal_width species\n",
       "0          3.5  setosa\n",
       "1          3.0  setosa\n",
       "2          3.2  setosa\n",
       "3          3.1  setosa\n",
       "4          3.6  setosa"
      ]
     },
     "execution_count": 9,
     "metadata": {},
     "output_type": "execute_result"
    }
   ],
   "source": [
    "import pandas as pd\n",
    "df = iris[[\"sepal_width\", \"species\"]]\n",
    "df.head()"
   ]
  },
  {
   "cell_type": "code",
   "execution_count": 10,
   "id": "12247970",
   "metadata": {},
   "outputs": [
    {
     "data": {
      "text/plain": [
       "F_onewayResult(statistic=49.160040089612075, pvalue=4.492017133309115e-17)"
      ]
     },
     "execution_count": 10,
     "metadata": {},
     "output_type": "execute_result"
    }
   ],
   "source": [
    "stats.f_oneway(df['sepal_width'][df['species'] == 'setosa'],\n",
    "      df['sepal_width'][df['species'] == 'versicolor'], \n",
    "      df['sepal_width'][df['species'] == 'virginica'])"
   ]
  },
  {
   "cell_type": "code",
   "execution_count": 11,
   "id": "eff02f7c",
   "metadata": {},
   "outputs": [
    {
     "data": {
      "text/html": [
       "<div>\n",
       "<style scoped>\n",
       "    .dataframe tbody tr th:only-of-type {\n",
       "        vertical-align: middle;\n",
       "    }\n",
       "\n",
       "    .dataframe tbody tr th {\n",
       "        vertical-align: top;\n",
       "    }\n",
       "\n",
       "    .dataframe thead th {\n",
       "        text-align: right;\n",
       "    }\n",
       "</style>\n",
       "<table border=\"1\" class=\"dataframe\">\n",
       "  <thead>\n",
       "    <tr style=\"text-align: right;\">\n",
       "      <th></th>\n",
       "      <th>sepal_length</th>\n",
       "      <th>species</th>\n",
       "    </tr>\n",
       "  </thead>\n",
       "  <tbody>\n",
       "    <tr>\n",
       "      <th>0</th>\n",
       "      <td>5.1</td>\n",
       "      <td>setosa</td>\n",
       "    </tr>\n",
       "    <tr>\n",
       "      <th>1</th>\n",
       "      <td>4.9</td>\n",
       "      <td>setosa</td>\n",
       "    </tr>\n",
       "    <tr>\n",
       "      <th>2</th>\n",
       "      <td>4.7</td>\n",
       "      <td>setosa</td>\n",
       "    </tr>\n",
       "    <tr>\n",
       "      <th>3</th>\n",
       "      <td>4.6</td>\n",
       "      <td>setosa</td>\n",
       "    </tr>\n",
       "    <tr>\n",
       "      <th>4</th>\n",
       "      <td>5.0</td>\n",
       "      <td>setosa</td>\n",
       "    </tr>\n",
       "  </tbody>\n",
       "</table>\n",
       "</div>"
      ],
      "text/plain": [
       "   sepal_length species\n",
       "0           5.1  setosa\n",
       "1           4.9  setosa\n",
       "2           4.7  setosa\n",
       "3           4.6  setosa\n",
       "4           5.0  setosa"
      ]
     },
     "execution_count": 11,
     "metadata": {},
     "output_type": "execute_result"
    }
   ],
   "source": [
    "#Check ANOVA assumption of Sepal_length \n",
    "df1 = iris[[\"sepal_length\", \"species\"]]\n",
    "df1.head()"
   ]
  },
  {
   "cell_type": "code",
   "execution_count": 12,
   "id": "fa5dd030",
   "metadata": {},
   "outputs": [
    {
     "name": "stderr",
     "output_type": "stream",
     "text": [
      "C:\\Users\\User\\anaconda3\\lib\\site-packages\\seaborn\\distributions.py:2619: FutureWarning: `distplot` is a deprecated function and will be removed in a future version. Please adapt your code to use either `displot` (a figure-level function with similar flexibility) or `histplot` (an axes-level function for histograms).\n",
      "  warnings.warn(msg, FutureWarning)\n",
      "C:\\Users\\User\\anaconda3\\lib\\site-packages\\seaborn\\distributions.py:2619: FutureWarning: `distplot` is a deprecated function and will be removed in a future version. Please adapt your code to use either `displot` (a figure-level function with similar flexibility) or `histplot` (an axes-level function for histograms).\n",
      "  warnings.warn(msg, FutureWarning)\n",
      "C:\\Users\\User\\anaconda3\\lib\\site-packages\\seaborn\\distributions.py:2619: FutureWarning: `distplot` is a deprecated function and will be removed in a future version. Please adapt your code to use either `displot` (a figure-level function with similar flexibility) or `histplot` (an axes-level function for histograms).\n",
      "  warnings.warn(msg, FutureWarning)\n"
     ]
    },
    {
     "data": {
      "text/plain": [
       "<AxesSubplot:xlabel='sepal_length', ylabel='Density'>"
      ]
     },
     "execution_count": 12,
     "metadata": {},
     "output_type": "execute_result"
    },
    {
     "data": {
      "image/png": "[encoded data removed]",
      "text/plain": [
       "<Figure size 640x480 with 1 Axes>"
      ]
     },
     "metadata": {},
     "output_type": "display_data"
    }
   ],
   "source": [
    "sns.distplot(df1.loc[df[\"species\"] == \"setosa\"][\"sepal_length\"])\n",
    "sns.distplot(df1.loc[df[\"species\"] == \"versicolor\"][\"sepal_length\"])\n",
    "sns.distplot(df1.loc[df[\"species\"] == \"virginica\"][\"sepal_length\"])"
   ]
  },
  {
   "cell_type": "code",
   "execution_count": 14,
   "id": "91d970f1",
   "metadata": {},
   "outputs": [
    {
     "name": "stdout",
     "output_type": "stream",
     "text": [
      "<class 'pandas.core.frame.DataFrame'>\n",
      "RangeIndex: 150 entries, 0 to 149\n",
      "Data columns (total 2 columns):\n",
      " #   Column       Non-Null Count  Dtype  \n",
      "---  ------       --------------  -----  \n",
      " 0   sepal_width  150 non-null    float64\n",
      " 1   species      150 non-null    object \n",
      "dtypes: float64(1), object(1)\n",
      "memory usage: 2.5+ KB\n"
     ]
    }
   ],
   "source": [
    "df = iris[[\"sepal_width\", \"species\"]]\n",
    "df.info()"
   ]
  },
  {
   "cell_type": "code",
   "execution_count": 15,
   "id": "45bb1ff9",
   "metadata": {},
   "outputs": [
    {
     "name": "stderr",
     "output_type": "stream",
     "text": [
      "C:\\Users\\User\\AppData\\Local\\Temp\\ipykernel_20460\\1855160772.py:1: SettingWithCopyWarning: \n",
      "A value is trying to be set on a copy of a slice from a DataFrame.\n",
      "Try using .loc[row_indexer,col_indexer] = value instead\n",
      "\n",
      "See the caveats in the documentation: https://pandas.pydata.org/pandas-docs/stable/user_guide/indexing.html#returning-a-view-versus-a-copy\n",
      "  df['species'] = df['species'].astype('category')\n"
     ]
    }
   ],
   "source": [
    "df['species'] = df['species'].astype('category')"
   ]
  },
  {
   "cell_type": "code",
   "execution_count": 16,
   "id": "10fb49d0",
   "metadata": {},
   "outputs": [],
   "source": [
    "\n",
    "from statsmodels.formula.api import ols #for n-way ANOVA\n",
    "from statsmodels.stats.anova import _get_covariance,anova_lm #for n-way ANOVA\n",
    "from statsmodels.stats.multicomp import pairwise_tukeyhsd #for performing the Tukey-HSD test\n",
    "from statsmodels.stats.multicomp import MultiComparison #To compare the levels of independent Var & dependent Var"
   ]
  },
  {
   "cell_type": "code",
   "execution_count": 17,
   "id": "d7306589",
   "metadata": {},
   "outputs": [
    {
     "name": "stdout",
     "output_type": "stream",
     "text": [
      "               df     sum_sq   mean_sq         F        PR(>F)\n",
      "C(species)    2.0  11.344933  5.672467  49.16004  4.492017e-17\n",
      "Residual    147.0  16.962000  0.115388       NaN           NaN\n"
     ]
    }
   ],
   "source": [
    "formula = 'sepal_width ~ C(species)'\n",
    "model = ols(formula, df).fit()\n",
    "aov_table = anova_lm(model)\n",
    "print(aov_table)"
   ]
  },
  {
   "cell_type": "code",
   "execution_count": 18,
   "id": "f9bb0b53",
   "metadata": {},
   "outputs": [
    {
     "name": "stdout",
     "output_type": "stream",
     "text": [
      "<class 'pandas.core.frame.DataFrame'>\n",
      "RangeIndex: 150 entries, 0 to 149\n",
      "Data columns (total 2 columns):\n",
      " #   Column        Non-Null Count  Dtype  \n",
      "---  ------        --------------  -----  \n",
      " 0   sepal_length  150 non-null    float64\n",
      " 1   species       150 non-null    object \n",
      "dtypes: float64(1), object(1)\n",
      "memory usage: 2.5+ KB\n"
     ]
    }
   ],
   "source": [
    "df1.info()"
   ]
  },
  {
   "cell_type": "code",
   "execution_count": 19,
   "id": "392da557",
   "metadata": {},
   "outputs": [
    {
     "name": "stderr",
     "output_type": "stream",
     "text": [
      "C:\\Users\\User\\AppData\\Local\\Temp\\ipykernel_20460\\1159774138.py:1: SettingWithCopyWarning: \n",
      "A value is trying to be set on a copy of a slice from a DataFrame.\n",
      "Try using .loc[row_indexer,col_indexer] = value instead\n",
      "\n",
      "See the caveats in the documentation: https://pandas.pydata.org/pandas-docs/stable/user_guide/indexing.html#returning-a-view-versus-a-copy\n",
      "  df1['species'] = df1['species'].astype('category')\n"
     ]
    }
   ],
   "source": [
    "\n",
    "df1['species'] = df1['species'].astype('category')"
   ]
  },
  {
   "cell_type": "code",
   "execution_count": 20,
   "id": "2db761be",
   "metadata": {},
   "outputs": [
    {
     "name": "stdout",
     "output_type": "stream",
     "text": [
      "               df     sum_sq    mean_sq           F        PR(>F)\n",
      "C(species)    2.0  63.212133  31.606067  119.264502  1.669669e-31\n",
      "Residual    147.0  38.956200   0.265008         NaN           NaN\n"
     ]
    }
   ],
   "source": [
    "formula = 'sepal_length ~ C(species)'\n",
    "model = ols(formula, df1).fit()\n",
    "aov_table = anova_lm(model)\n",
    "print(aov_table)"
   ]
  },
  {
   "cell_type": "code",
   "execution_count": 21,
   "id": "f33f89e3",
   "metadata": {},
   "outputs": [],
   "source": [
    "# The above failed the 3-assumption of ANOVA but tired the ANOVA"
   ]
  },
  {
   "cell_type": "code",
   "execution_count": 22,
   "id": "bec75678",
   "metadata": {},
   "outputs": [
    {
     "name": "stdout",
     "output_type": "stream",
     "text": [
      "    Multiple Comparison of Means - Tukey HSD, FWER=0.05     \n",
      "============================================================\n",
      "  group1     group2   meandiff p-adj   lower   upper  reject\n",
      "------------------------------------------------------------\n",
      "    setosa versicolor   -0.658    0.0 -0.8189 -0.4971   True\n",
      "    setosa  virginica   -0.454    0.0 -0.6149 -0.2931   True\n",
      "versicolor  virginica    0.204 0.0088  0.0431  0.3649   True\n",
      "------------------------------------------------------------\n",
      "['setosa' 'versicolor' 'virginica']\n"
     ]
    }
   ],
   "source": [
    "mc = MultiComparison(df['sepal_width'], df['species'])\n",
    "result = mc.tukeyhsd()\n",
    "\n",
    "print(result)\n",
    "print(mc.groupsunique)"
   ]
  },
  {
   "cell_type": "markdown",
   "id": "97261daf",
   "metadata": {},
   "source": [
    "# Anova test "
   ]
  },
  {
   "cell_type": "code",
   "execution_count": 24,
   "id": "56b3a8cb",
   "metadata": {},
   "outputs": [],
   "source": [
    "import numpy as np\n",
    "import scipy as sp\n",
    "import scipy.special\n",
    "import scipy.stats\n",
    "import pandas as pd\n",
    "import matplotlib.pyplot as plt"
   ]
  },
  {
   "cell_type": "code",
   "execution_count": 25,
   "id": "c75a30fe",
   "metadata": {},
   "outputs": [],
   "source": [
    "# https://github.com/weijie-chen/Basic-Statistics-With-Python/blob/main/Chapter%205%20-%20Analysis%20of%20Variance%20and%20Chi-Squared%20Test.ipynb"
   ]
  },
  {
   "cell_type": "code",
   "execution_count": 26,
   "id": "ba7ebe2b",
   "metadata": {},
   "outputs": [
    {
     "data": {
      "text/plain": [
       "2.6321415117354894"
      ]
     },
     "execution_count": 26,
     "metadata": {},
     "output_type": "execute_result"
    }
   ],
   "source": [
    "\n",
    "sp.stats.f.ppf(.95, 3, 328)"
   ]
  },
  {
   "cell_type": "code",
   "execution_count": 27,
   "id": "eaa2542c",
   "metadata": {},
   "outputs": [
    {
     "data": {
      "text/html": [
       "<div>\n",
       "<style scoped>\n",
       "    .dataframe tbody tr th:only-of-type {\n",
       "        vertical-align: middle;\n",
       "    }\n",
       "\n",
       "    .dataframe tbody tr th {\n",
       "        vertical-align: top;\n",
       "    }\n",
       "\n",
       "    .dataframe thead th {\n",
       "        text-align: right;\n",
       "    }\n",
       "</style>\n",
       "<table border=\"1\" class=\"dataframe\">\n",
       "  <thead>\n",
       "    <tr style=\"text-align: right;\">\n",
       "      <th></th>\n",
       "      <th>Japanese</th>\n",
       "      <th>Dutch</th>\n",
       "      <th>Danish</th>\n",
       "    </tr>\n",
       "  </thead>\n",
       "  <tbody>\n",
       "    <tr>\n",
       "      <th>0</th>\n",
       "      <td>161.783130</td>\n",
       "      <td>187.726286</td>\n",
       "      <td>174.746213</td>\n",
       "    </tr>\n",
       "    <tr>\n",
       "      <th>1</th>\n",
       "      <td>145.329934</td>\n",
       "      <td>179.338741</td>\n",
       "      <td>174.133579</td>\n",
       "    </tr>\n",
       "    <tr>\n",
       "      <th>2</th>\n",
       "      <td>174.569597</td>\n",
       "      <td>176.566656</td>\n",
       "      <td>178.966745</td>\n",
       "    </tr>\n",
       "    <tr>\n",
       "      <th>3</th>\n",
       "      <td>160.003162</td>\n",
       "      <td>184.570245</td>\n",
       "      <td>179.335222</td>\n",
       "    </tr>\n",
       "    <tr>\n",
       "      <th>4</th>\n",
       "      <td>162.242898</td>\n",
       "      <td>184.056181</td>\n",
       "      <td>167.497992</td>\n",
       "    </tr>\n",
       "  </tbody>\n",
       "</table>\n",
       "</div>"
      ],
      "text/plain": [
       "     Japanese       Dutch      Danish\n",
       "0  161.783130  187.726286  174.746213\n",
       "1  145.329934  179.338741  174.133579\n",
       "2  174.569597  176.566656  178.966745\n",
       "3  160.003162  184.570245  179.335222\n",
       "4  162.242898  184.056181  167.497992"
      ]
     },
     "execution_count": 27,
     "metadata": {},
     "output_type": "execute_result"
    }
   ],
   "source": [
    "df = pd.read_excel('height_anova2.xlsx')\n",
    "df.head()"
   ]
  },
  {
   "cell_type": "code",
   "execution_count": 28,
   "id": "1e7f4e92",
   "metadata": {},
   "outputs": [
    {
     "name": "stdout",
     "output_type": "stream",
     "text": [
      "F-statistic: 37.96057544749984\n",
      "p-value: 2.3363533330211794e-12\n"
     ]
    }
   ],
   "source": [
    "dutch_mean = df['Dutch'].mean()\n",
    "japanese_mean = df['Japanese'].mean()\n",
    "danish_mean = df['Danish'].mean()\n",
    "grand_mean = (dutch_mean+japanese_mean+danish_mean)/3\n",
    "\n",
    "SST = len(df['Japanese'])*(japanese_mean-grand_mean)**2\\\n",
    "      +len(df['Dutch'])*(dutch_mean-grand_mean)**2\\\n",
    "      +len(df['Danish'])*(danish_mean-grand_mean)**2\n",
    "MST = SST/2\n",
    "\n",
    "SSE = (len(df['Japanese'])-1)*df['Japanese'].var(ddof=1)\\\n",
    "      +(len(df['Dutch'])-1)*df['Dutch'].var(ddof=1)\\\n",
    "      +(len(df['Danish'])-1)*df['Danish'].var(ddof=1)\n",
    "n = len(df['Japanese']) + len(df['Dutch']) + len(df['Danish'])\n",
    "k = 3\n",
    "MSE = SSE/(n-k)\n",
    "\n",
    "F = MST/MSE\n",
    "print('F-statistic: {}'.format(F))\n",
    "print('p-value: {}'.format(1 - sp.stats.f.cdf(F, 2, n-k)))"
   ]
  },
  {
   "cell_type": "code",
   "execution_count": 29,
   "id": "f3e6d58a",
   "metadata": {},
   "outputs": [],
   "source": [
    "# The test results favours the alternative hypothesis overwhelmingly."
   ]
  },
  {
   "cell_type": "code",
   "execution_count": 30,
   "id": "bf4be467",
   "metadata": {},
   "outputs": [
    {
     "name": "stdout",
     "output_type": "stream",
     "text": [
      "Japanese sample variance: 145.93369676074872\n",
      "Danish sample variance: 20.108195066929262\n",
      "Dutch sample variance: 15.844843124694973\n"
     ]
    }
   ],
   "source": [
    "# Before we close the case, let's exam the sample variance.\n",
    "\n",
    "print('Japanese sample variance: {}'.format(df['Japanese'].var(ddof=1)))\n",
    "print('Danish sample variance: {}'.format(df['Danish'].var(ddof=1)))\n",
    "print('Dutch sample variance: {}'.format(df['Dutch'].var(ddof=1)))\n"
   ]
  },
  {
   "cell_type": "code",
   "execution_count": 32,
   "id": "691f2eeb",
   "metadata": {},
   "outputs": [],
   "source": [
    "# 12_F_distribution_Anova"
   ]
  },
  {
   "cell_type": "code",
   "execution_count": 33,
   "id": "5fd3ed39",
   "metadata": {},
   "outputs": [],
   "source": [
    "import statsmodels.api as sm\n",
    "from scipy.stats import norm\n",
    "from scipy.stats import t\n",
    "import pandas as pd\n",
    "import numpy as np\n",
    "import seaborn as sns\n",
    "import matplotlib.pyplot as plt\n",
    "%matplotlib inline\n",
    "from matplotlib import figure\n",
    "import warnings\n",
    "warnings.filterwarnings('ignore')"
   ]
  },
  {
   "cell_type": "markdown",
   "id": "fbad4f68",
   "metadata": {},
   "source": [
    "Analysis of variance\n",
    " \n",
    "Analysis of variance (ANOVA) is a collection of statistical models and their associated estimation procedures (such as the \"variation\" among and between groups) used to analyze the differences among means.\n",
    "ANOVA was developed by the statistician Ronald Fisher.\n",
    "ANOVA is based on the law of total variance, where the observed variance in a particular variable is partitioned into components attributable to different sources of variation.\n",
    "In its simplest form, ANOVA provides a statistical test of whether two or more population means are equal, and therefore generalizes the t-test beyond two means.\n",
    "In other words, the ANOVA is used to test the difference between two or more means.\n",
    " \n",
    "problem with multiple t-tests :\n",
    "multiple t-test even at small significance level , can result in a high probability of false positive error ( incorrectly rejecting null hypothesis. )\n",
    "if the result of one hypothesis test is : mean1 = mean2\n",
    "and another hypothesis test result is mean2 = mean3.\n",
    "we cannot conclude that mean1 = mean2 = mean3.\n",
    "as the type 1 error (alfa)(false +ve) multiplies.\n",
    "Assumptions :\n",
    "independence of observations\n",
    "distibutions of the residuals are normal.\n",
    "equality of variance : homoscedasticity - the variance of data in groups should be the same.\n",
    " \n",
    "Partitioning of the sum of squares :\n",
    "The definitional equation of sample variance is\n",
    "image.png\n",
    "\n",
    "where the divisor is called the degrees of freedom (DF), the summation is called the sum of squares (SS), the result is called the mean square (MS) and the squared terms are deviations from the sample mean.\n",
    "ANOVA estimates 3 sample variances:\n",
    "a total variance based on all the observation deviations from the grand mean\n",
    "an error variance based on all the observation deviations from their appropriate treatment means a treatment variance.\n",
    "The treatment variance is based on the deviations of treatment means from the grand mean\n",
    "the result being multiplied by the number of observations in each treatment to account for the difference between the variance of observations and the variance of means.\n",
    "The fundamental technique is a partitioning of the total sum of squares SS into components related to the effects used in the model.\n",
    "\n",
    "For example, the model for a simplified ANOVA with one type of treatment at different levels.\n",
    "\n",
    "image.png\n",
    "\n",
    "The number of degrees of freedom DF can be partitioned in a similar way: one of these components (that for error) specifies a chi-squared distribution which describes the associated sum of squares, while the same is true for \"treatments\" if there is no treatment effect.\n",
    "\n",
    "image-2.png\n",
    "\n",
    "SST = SSE + SSC\n",
    "- SST : total/ overall sum of squares \n",
    "    > sum of squares between each data point and the overall mean\n",
    "\n",
    "- SSC : column/between/treatment sum of ssquares \n",
    "    > sum of squares  between each group mean and overall mean\n",
    "\n",
    "- SSE : Within/error sum of squares \n",
    "    > sum of squares between each data points and their own group mean\n",
    "\n",
    "The F-test :\n",
    "The F-test is used for comparing the factors of the total deviation. For example, in one-way, or single-factor ANOVA, statistical significance is tested for by comparing the F test statistic\n",
    "image.png\n",
    "\n",
    "image-2.png\n",
    "\n",
    "image-3.png\n",
    "\n",
    " \n",
    "image-2.png"
   ]
  },
  {
   "cell_type": "code",
   "execution_count": 35,
   "id": "a2cbf20f",
   "metadata": {},
   "outputs": [],
   "source": [
    "# lets say if we want to test the recovery time of all given 7 drugs are equal or not! \n",
    "drug1 = np.random.normal(4.0,0.2,50)\n",
    "drug2 = np.random.normal(4.0,0.2,50)\n",
    "drug3 = np.random.normal(4.0,0.2,50)\n",
    "drug4 = np.random.normal(4.0,0.2,50)\n",
    "drug5 = np.random.normal(4.0,0.2,50)\n",
    "drug6 = np.random.normal(4.0,0.2,50) \n",
    "drug7 = np.random.normal(4.0,0.2,50)"
   ]
  },
  {
   "cell_type": "code",
   "execution_count": 36,
   "id": "32f5307f",
   "metadata": {},
   "outputs": [
    {
     "data": {
      "text/html": [
       "<div>\n",
       "<style scoped>\n",
       "    .dataframe tbody tr th:only-of-type {\n",
       "        vertical-align: middle;\n",
       "    }\n",
       "\n",
       "    .dataframe tbody tr th {\n",
       "        vertical-align: top;\n",
       "    }\n",
       "\n",
       "    .dataframe thead th {\n",
       "        text-align: right;\n",
       "    }\n",
       "</style>\n",
       "<table border=\"1\" class=\"dataframe\">\n",
       "  <thead>\n",
       "    <tr style=\"text-align: right;\">\n",
       "      <th></th>\n",
       "      <th>drug1</th>\n",
       "      <th>drug2</th>\n",
       "      <th>drug3</th>\n",
       "      <th>drug4</th>\n",
       "      <th>drug5</th>\n",
       "      <th>drug6</th>\n",
       "      <th>drug7</th>\n",
       "    </tr>\n",
       "  </thead>\n",
       "  <tbody>\n",
       "    <tr>\n",
       "      <th>0</th>\n",
       "      <td>4.197769</td>\n",
       "      <td>3.860482</td>\n",
       "      <td>3.903561</td>\n",
       "      <td>3.658448</td>\n",
       "      <td>3.955272</td>\n",
       "      <td>4.127707</td>\n",
       "      <td>3.814882</td>\n",
       "    </tr>\n",
       "    <tr>\n",
       "      <th>1</th>\n",
       "      <td>4.078532</td>\n",
       "      <td>4.034229</td>\n",
       "      <td>4.230871</td>\n",
       "      <td>4.020591</td>\n",
       "      <td>3.928071</td>\n",
       "      <td>3.770757</td>\n",
       "      <td>4.154179</td>\n",
       "    </tr>\n",
       "    <tr>\n",
       "      <th>2</th>\n",
       "      <td>3.864816</td>\n",
       "      <td>3.856530</td>\n",
       "      <td>4.020067</td>\n",
       "      <td>4.074403</td>\n",
       "      <td>4.336405</td>\n",
       "      <td>3.799429</td>\n",
       "      <td>3.986277</td>\n",
       "    </tr>\n",
       "    <tr>\n",
       "      <th>3</th>\n",
       "      <td>3.973568</td>\n",
       "      <td>4.141097</td>\n",
       "      <td>3.803676</td>\n",
       "      <td>3.661629</td>\n",
       "      <td>3.974758</td>\n",
       "      <td>3.873089</td>\n",
       "      <td>4.233081</td>\n",
       "    </tr>\n",
       "    <tr>\n",
       "      <th>4</th>\n",
       "      <td>3.997056</td>\n",
       "      <td>3.918495</td>\n",
       "      <td>3.770991</td>\n",
       "      <td>4.012519</td>\n",
       "      <td>4.128986</td>\n",
       "      <td>4.203574</td>\n",
       "      <td>4.359145</td>\n",
       "    </tr>\n",
       "    <tr>\n",
       "      <th>5</th>\n",
       "      <td>4.124496</td>\n",
       "      <td>4.000235</td>\n",
       "      <td>4.098435</td>\n",
       "      <td>4.149131</td>\n",
       "      <td>3.786003</td>\n",
       "      <td>4.183006</td>\n",
       "      <td>3.776770</td>\n",
       "    </tr>\n",
       "    <tr>\n",
       "      <th>6</th>\n",
       "      <td>4.512991</td>\n",
       "      <td>4.090706</td>\n",
       "      <td>3.919501</td>\n",
       "      <td>3.842385</td>\n",
       "      <td>3.962695</td>\n",
       "      <td>3.896107</td>\n",
       "      <td>4.287844</td>\n",
       "    </tr>\n",
       "    <tr>\n",
       "      <th>7</th>\n",
       "      <td>4.098633</td>\n",
       "      <td>4.187838</td>\n",
       "      <td>4.072914</td>\n",
       "      <td>3.861479</td>\n",
       "      <td>3.883676</td>\n",
       "      <td>4.045449</td>\n",
       "      <td>3.698932</td>\n",
       "    </tr>\n",
       "    <tr>\n",
       "      <th>8</th>\n",
       "      <td>4.215103</td>\n",
       "      <td>4.200722</td>\n",
       "      <td>3.796807</td>\n",
       "      <td>4.292363</td>\n",
       "      <td>3.905123</td>\n",
       "      <td>3.888815</td>\n",
       "      <td>4.297585</td>\n",
       "    </tr>\n",
       "    <tr>\n",
       "      <th>9</th>\n",
       "      <td>3.783265</td>\n",
       "      <td>3.934593</td>\n",
       "      <td>4.131882</td>\n",
       "      <td>3.992217</td>\n",
       "      <td>4.280986</td>\n",
       "      <td>3.883674</td>\n",
       "      <td>3.745578</td>\n",
       "    </tr>\n",
       "    <tr>\n",
       "      <th>10</th>\n",
       "      <td>3.840199</td>\n",
       "      <td>4.178509</td>\n",
       "      <td>3.956375</td>\n",
       "      <td>3.993378</td>\n",
       "      <td>4.011646</td>\n",
       "      <td>4.083889</td>\n",
       "      <td>4.036991</td>\n",
       "    </tr>\n",
       "    <tr>\n",
       "      <th>11</th>\n",
       "      <td>4.352258</td>\n",
       "      <td>3.811073</td>\n",
       "      <td>4.087009</td>\n",
       "      <td>3.846035</td>\n",
       "      <td>3.984866</td>\n",
       "      <td>3.995933</td>\n",
       "      <td>3.925036</td>\n",
       "    </tr>\n",
       "    <tr>\n",
       "      <th>12</th>\n",
       "      <td>3.971137</td>\n",
       "      <td>3.910565</td>\n",
       "      <td>4.126624</td>\n",
       "      <td>3.877726</td>\n",
       "      <td>3.529391</td>\n",
       "      <td>4.112332</td>\n",
       "      <td>3.961458</td>\n",
       "    </tr>\n",
       "    <tr>\n",
       "      <th>13</th>\n",
       "      <td>4.556405</td>\n",
       "      <td>3.845668</td>\n",
       "      <td>4.058711</td>\n",
       "      <td>3.599949</td>\n",
       "      <td>3.938475</td>\n",
       "      <td>4.082826</td>\n",
       "      <td>4.039225</td>\n",
       "    </tr>\n",
       "    <tr>\n",
       "      <th>14</th>\n",
       "      <td>4.083241</td>\n",
       "      <td>3.785217</td>\n",
       "      <td>3.892016</td>\n",
       "      <td>4.354419</td>\n",
       "      <td>3.874187</td>\n",
       "      <td>3.955102</td>\n",
       "      <td>4.175963</td>\n",
       "    </tr>\n",
       "    <tr>\n",
       "      <th>15</th>\n",
       "      <td>4.020314</td>\n",
       "      <td>4.002443</td>\n",
       "      <td>3.718211</td>\n",
       "      <td>4.231872</td>\n",
       "      <td>4.101316</td>\n",
       "      <td>4.340640</td>\n",
       "      <td>3.834803</td>\n",
       "    </tr>\n",
       "    <tr>\n",
       "      <th>16</th>\n",
       "      <td>4.448623</td>\n",
       "      <td>4.357266</td>\n",
       "      <td>4.223880</td>\n",
       "      <td>4.149081</td>\n",
       "      <td>3.816533</td>\n",
       "      <td>4.222707</td>\n",
       "      <td>4.037450</td>\n",
       "    </tr>\n",
       "    <tr>\n",
       "      <th>17</th>\n",
       "      <td>3.922325</td>\n",
       "      <td>3.857978</td>\n",
       "      <td>3.586249</td>\n",
       "      <td>4.012602</td>\n",
       "      <td>4.160219</td>\n",
       "      <td>3.810596</td>\n",
       "      <td>3.929046</td>\n",
       "    </tr>\n",
       "    <tr>\n",
       "      <th>18</th>\n",
       "      <td>4.038844</td>\n",
       "      <td>4.228288</td>\n",
       "      <td>4.108262</td>\n",
       "      <td>3.603128</td>\n",
       "      <td>4.010312</td>\n",
       "      <td>3.944904</td>\n",
       "      <td>4.124211</td>\n",
       "    </tr>\n",
       "    <tr>\n",
       "      <th>19</th>\n",
       "      <td>4.279184</td>\n",
       "      <td>3.896162</td>\n",
       "      <td>3.782927</td>\n",
       "      <td>3.977036</td>\n",
       "      <td>4.162679</td>\n",
       "      <td>3.769103</td>\n",
       "      <td>3.955713</td>\n",
       "    </tr>\n",
       "    <tr>\n",
       "      <th>20</th>\n",
       "      <td>4.062964</td>\n",
       "      <td>3.936264</td>\n",
       "      <td>3.958083</td>\n",
       "      <td>4.108671</td>\n",
       "      <td>3.956912</td>\n",
       "      <td>3.671432</td>\n",
       "      <td>3.757704</td>\n",
       "    </tr>\n",
       "    <tr>\n",
       "      <th>21</th>\n",
       "      <td>4.122324</td>\n",
       "      <td>4.338225</td>\n",
       "      <td>3.996633</td>\n",
       "      <td>4.231119</td>\n",
       "      <td>4.058174</td>\n",
       "      <td>4.068369</td>\n",
       "      <td>3.736199</td>\n",
       "    </tr>\n",
       "    <tr>\n",
       "      <th>22</th>\n",
       "      <td>4.015626</td>\n",
       "      <td>4.036744</td>\n",
       "      <td>3.715519</td>\n",
       "      <td>4.359988</td>\n",
       "      <td>4.100844</td>\n",
       "      <td>3.893810</td>\n",
       "      <td>3.687507</td>\n",
       "    </tr>\n",
       "    <tr>\n",
       "      <th>23</th>\n",
       "      <td>3.768599</td>\n",
       "      <td>4.000510</td>\n",
       "      <td>3.488960</td>\n",
       "      <td>3.914531</td>\n",
       "      <td>4.113660</td>\n",
       "      <td>3.813035</td>\n",
       "      <td>3.962924</td>\n",
       "    </tr>\n",
       "    <tr>\n",
       "      <th>24</th>\n",
       "      <td>4.281988</td>\n",
       "      <td>3.683436</td>\n",
       "      <td>3.731877</td>\n",
       "      <td>4.015982</td>\n",
       "      <td>4.122444</td>\n",
       "      <td>3.807500</td>\n",
       "      <td>4.292029</td>\n",
       "    </tr>\n",
       "    <tr>\n",
       "      <th>25</th>\n",
       "      <td>3.826813</td>\n",
       "      <td>4.411495</td>\n",
       "      <td>3.906151</td>\n",
       "      <td>3.978181</td>\n",
       "      <td>4.432872</td>\n",
       "      <td>3.784178</td>\n",
       "      <td>3.954991</td>\n",
       "    </tr>\n",
       "    <tr>\n",
       "      <th>26</th>\n",
       "      <td>3.814302</td>\n",
       "      <td>4.013415</td>\n",
       "      <td>3.900709</td>\n",
       "      <td>4.064222</td>\n",
       "      <td>3.884722</td>\n",
       "      <td>3.979728</td>\n",
       "      <td>4.109796</td>\n",
       "    </tr>\n",
       "    <tr>\n",
       "      <th>27</th>\n",
       "      <td>4.163262</td>\n",
       "      <td>4.619572</td>\n",
       "      <td>4.062034</td>\n",
       "      <td>3.995570</td>\n",
       "      <td>4.261491</td>\n",
       "      <td>4.144522</td>\n",
       "      <td>4.044553</td>\n",
       "    </tr>\n",
       "    <tr>\n",
       "      <th>28</th>\n",
       "      <td>3.925303</td>\n",
       "      <td>3.835471</td>\n",
       "      <td>4.352923</td>\n",
       "      <td>3.792236</td>\n",
       "      <td>4.151727</td>\n",
       "      <td>3.846849</td>\n",
       "      <td>4.135435</td>\n",
       "    </tr>\n",
       "    <tr>\n",
       "      <th>29</th>\n",
       "      <td>3.764293</td>\n",
       "      <td>3.875771</td>\n",
       "      <td>3.823937</td>\n",
       "      <td>3.840347</td>\n",
       "      <td>4.049924</td>\n",
       "      <td>4.040492</td>\n",
       "      <td>4.290808</td>\n",
       "    </tr>\n",
       "    <tr>\n",
       "      <th>30</th>\n",
       "      <td>3.781879</td>\n",
       "      <td>4.039046</td>\n",
       "      <td>4.357404</td>\n",
       "      <td>3.952926</td>\n",
       "      <td>3.646551</td>\n",
       "      <td>4.184533</td>\n",
       "      <td>3.780146</td>\n",
       "    </tr>\n",
       "    <tr>\n",
       "      <th>31</th>\n",
       "      <td>4.087506</td>\n",
       "      <td>4.289797</td>\n",
       "      <td>4.283131</td>\n",
       "      <td>3.522957</td>\n",
       "      <td>4.363746</td>\n",
       "      <td>3.851483</td>\n",
       "      <td>4.200705</td>\n",
       "    </tr>\n",
       "    <tr>\n",
       "      <th>32</th>\n",
       "      <td>3.561727</td>\n",
       "      <td>3.857466</td>\n",
       "      <td>4.092613</td>\n",
       "      <td>3.826451</td>\n",
       "      <td>4.082369</td>\n",
       "      <td>3.854160</td>\n",
       "      <td>3.797100</td>\n",
       "    </tr>\n",
       "    <tr>\n",
       "      <th>33</th>\n",
       "      <td>3.809105</td>\n",
       "      <td>4.091088</td>\n",
       "      <td>3.830844</td>\n",
       "      <td>4.210605</td>\n",
       "      <td>4.354546</td>\n",
       "      <td>3.962380</td>\n",
       "      <td>3.988131</td>\n",
       "    </tr>\n",
       "    <tr>\n",
       "      <th>34</th>\n",
       "      <td>3.779807</td>\n",
       "      <td>3.550014</td>\n",
       "      <td>4.134422</td>\n",
       "      <td>3.731449</td>\n",
       "      <td>3.830199</td>\n",
       "      <td>3.931122</td>\n",
       "      <td>3.838936</td>\n",
       "    </tr>\n",
       "    <tr>\n",
       "      <th>35</th>\n",
       "      <td>3.879945</td>\n",
       "      <td>3.762643</td>\n",
       "      <td>4.133120</td>\n",
       "      <td>4.166041</td>\n",
       "      <td>4.052378</td>\n",
       "      <td>4.022748</td>\n",
       "      <td>3.900636</td>\n",
       "    </tr>\n",
       "    <tr>\n",
       "      <th>36</th>\n",
       "      <td>4.240038</td>\n",
       "      <td>3.945459</td>\n",
       "      <td>4.224907</td>\n",
       "      <td>4.003856</td>\n",
       "      <td>3.782158</td>\n",
       "      <td>4.082808</td>\n",
       "      <td>4.035223</td>\n",
       "    </tr>\n",
       "    <tr>\n",
       "      <th>37</th>\n",
       "      <td>4.133475</td>\n",
       "      <td>3.904111</td>\n",
       "      <td>3.750201</td>\n",
       "      <td>3.938250</td>\n",
       "      <td>3.935110</td>\n",
       "      <td>3.837483</td>\n",
       "      <td>3.959049</td>\n",
       "    </tr>\n",
       "    <tr>\n",
       "      <th>38</th>\n",
       "      <td>4.064204</td>\n",
       "      <td>3.941886</td>\n",
       "      <td>3.947210</td>\n",
       "      <td>3.937683</td>\n",
       "      <td>3.918749</td>\n",
       "      <td>3.860346</td>\n",
       "      <td>3.604188</td>\n",
       "    </tr>\n",
       "    <tr>\n",
       "      <th>39</th>\n",
       "      <td>3.864200</td>\n",
       "      <td>4.185704</td>\n",
       "      <td>4.135249</td>\n",
       "      <td>4.086550</td>\n",
       "      <td>4.117918</td>\n",
       "      <td>3.911978</td>\n",
       "      <td>3.871159</td>\n",
       "    </tr>\n",
       "    <tr>\n",
       "      <th>40</th>\n",
       "      <td>3.953644</td>\n",
       "      <td>4.015198</td>\n",
       "      <td>3.864433</td>\n",
       "      <td>3.964274</td>\n",
       "      <td>3.989743</td>\n",
       "      <td>4.069735</td>\n",
       "      <td>3.870232</td>\n",
       "    </tr>\n",
       "    <tr>\n",
       "      <th>41</th>\n",
       "      <td>3.972880</td>\n",
       "      <td>4.024841</td>\n",
       "      <td>4.300574</td>\n",
       "      <td>3.719915</td>\n",
       "      <td>4.026350</td>\n",
       "      <td>3.933761</td>\n",
       "      <td>4.236077</td>\n",
       "    </tr>\n",
       "    <tr>\n",
       "      <th>42</th>\n",
       "      <td>3.744583</td>\n",
       "      <td>3.912264</td>\n",
       "      <td>3.978213</td>\n",
       "      <td>4.051159</td>\n",
       "      <td>3.545238</td>\n",
       "      <td>3.692936</td>\n",
       "      <td>3.878445</td>\n",
       "    </tr>\n",
       "    <tr>\n",
       "      <th>43</th>\n",
       "      <td>4.178193</td>\n",
       "      <td>3.894866</td>\n",
       "      <td>3.856544</td>\n",
       "      <td>3.681150</td>\n",
       "      <td>4.097157</td>\n",
       "      <td>3.936912</td>\n",
       "      <td>3.750606</td>\n",
       "    </tr>\n",
       "    <tr>\n",
       "      <th>44</th>\n",
       "      <td>3.764679</td>\n",
       "      <td>4.202435</td>\n",
       "      <td>4.194238</td>\n",
       "      <td>3.891435</td>\n",
       "      <td>3.569465</td>\n",
       "      <td>3.728996</td>\n",
       "      <td>4.246685</td>\n",
       "    </tr>\n",
       "    <tr>\n",
       "      <th>45</th>\n",
       "      <td>4.238633</td>\n",
       "      <td>3.598067</td>\n",
       "      <td>3.318662</td>\n",
       "      <td>3.873183</td>\n",
       "      <td>4.185194</td>\n",
       "      <td>3.892458</td>\n",
       "      <td>3.804219</td>\n",
       "    </tr>\n",
       "    <tr>\n",
       "      <th>46</th>\n",
       "      <td>4.197137</td>\n",
       "      <td>3.934293</td>\n",
       "      <td>4.158752</td>\n",
       "      <td>3.962129</td>\n",
       "      <td>4.041694</td>\n",
       "      <td>4.059545</td>\n",
       "      <td>4.053266</td>\n",
       "    </tr>\n",
       "    <tr>\n",
       "      <th>47</th>\n",
       "      <td>4.038311</td>\n",
       "      <td>4.269372</td>\n",
       "      <td>4.090295</td>\n",
       "      <td>4.071770</td>\n",
       "      <td>3.812386</td>\n",
       "      <td>4.094315</td>\n",
       "      <td>4.238080</td>\n",
       "    </tr>\n",
       "    <tr>\n",
       "      <th>48</th>\n",
       "      <td>4.091958</td>\n",
       "      <td>3.728741</td>\n",
       "      <td>3.751738</td>\n",
       "      <td>4.078130</td>\n",
       "      <td>4.086348</td>\n",
       "      <td>3.939249</td>\n",
       "      <td>3.953538</td>\n",
       "    </tr>\n",
       "    <tr>\n",
       "      <th>49</th>\n",
       "      <td>4.046975</td>\n",
       "      <td>4.001275</td>\n",
       "      <td>3.824218</td>\n",
       "      <td>4.176925</td>\n",
       "      <td>4.051377</td>\n",
       "      <td>4.131814</td>\n",
       "      <td>3.890877</td>\n",
       "    </tr>\n",
       "  </tbody>\n",
       "</table>\n",
       "</div>"
      ],
      "text/plain": [
       "       drug1     drug2     drug3     drug4     drug5     drug6     drug7\n",
       "0   4.197769  3.860482  3.903561  3.658448  3.955272  4.127707  3.814882\n",
       "1   4.078532  4.034229  4.230871  4.020591  3.928071  3.770757  4.154179\n",
       "2   3.864816  3.856530  4.020067  4.074403  4.336405  3.799429  3.986277\n",
       "3   3.973568  4.141097  3.803676  3.661629  3.974758  3.873089  4.233081\n",
       "4   3.997056  3.918495  3.770991  4.012519  4.128986  4.203574  4.359145\n",
       "5   4.124496  4.000235  4.098435  4.149131  3.786003  4.183006  3.776770\n",
       "6   4.512991  4.090706  3.919501  3.842385  3.962695  3.896107  4.287844\n",
       "7   4.098633  4.187838  4.072914  3.861479  3.883676  4.045449  3.698932\n",
       "8   4.215103  4.200722  3.796807  4.292363  3.905123  3.888815  4.297585\n",
       "9   3.783265  3.934593  4.131882  3.992217  4.280986  3.883674  3.745578\n",
       "10  3.840199  4.178509  3.956375  3.993378  4.011646  4.083889  4.036991\n",
       "11  4.352258  3.811073  4.087009  3.846035  3.984866  3.995933  3.925036\n",
       "12  3.971137  3.910565  4.126624  3.877726  3.529391  4.112332  3.961458\n",
       "13  4.556405  3.845668  4.058711  3.599949  3.938475  4.082826  4.039225\n",
       "14  4.083241  3.785217  3.892016  4.354419  3.874187  3.955102  4.175963\n",
       "15  4.020314  4.002443  3.718211  4.231872  4.101316  4.340640  3.834803\n",
       "16  4.448623  4.357266  4.223880  4.149081  3.816533  4.222707  4.037450\n",
       "17  3.922325  3.857978  3.586249  4.012602  4.160219  3.810596  3.929046\n",
       "18  4.038844  4.228288  4.108262  3.603128  4.010312  3.944904  4.124211\n",
       "19  4.279184  3.896162  3.782927  3.977036  4.162679  3.769103  3.955713\n",
       "20  4.062964  3.936264  3.958083  4.108671  3.956912  3.671432  3.757704\n",
       "21  4.122324  4.338225  3.996633  4.231119  4.058174  4.068369  3.736199\n",
       "22  4.015626  4.036744  3.715519  4.359988  4.100844  3.893810  3.687507\n",
       "23  3.768599  4.000510  3.488960  3.914531  4.113660  3.813035  3.962924\n",
       "24  4.281988  3.683436  3.731877  4.015982  4.122444  3.807500  4.292029\n",
       "25  3.826813  4.411495  3.906151  3.978181  4.432872  3.784178  3.954991\n",
       "26  3.814302  4.013415  3.900709  4.064222  3.884722  3.979728  4.109796\n",
       "27  4.163262  4.619572  4.062034  3.995570  4.261491  4.144522  4.044553\n",
       "28  3.925303  3.835471  4.352923  3.792236  4.151727  3.846849  4.135435\n",
       "29  3.764293  3.875771  3.823937  3.840347  4.049924  4.040492  4.290808\n",
       "30  3.781879  4.039046  4.357404  3.952926  3.646551  4.184533  3.780146\n",
       "31  4.087506  4.289797  4.283131  3.522957  4.363746  3.851483  4.200705\n",
       "32  3.561727  3.857466  4.092613  3.826451  4.082369  3.854160  3.797100\n",
       "33  3.809105  4.091088  3.830844  4.210605  4.354546  3.962380  3.988131\n",
       "34  3.779807  3.550014  4.134422  3.731449  3.830199  3.931122  3.838936\n",
       "35  3.879945  3.762643  4.133120  4.166041  4.052378  4.022748  3.900636\n",
       "36  4.240038  3.945459  4.224907  4.003856  3.782158  4.082808  4.035223\n",
       "37  4.133475  3.904111  3.750201  3.938250  3.935110  3.837483  3.959049\n",
       "38  4.064204  3.941886  3.947210  3.937683  3.918749  3.860346  3.604188\n",
       "39  3.864200  4.185704  4.135249  4.086550  4.117918  3.911978  3.871159\n",
       "40  3.953644  4.015198  3.864433  3.964274  3.989743  4.069735  3.870232\n",
       "41  3.972880  4.024841  4.300574  3.719915  4.026350  3.933761  4.236077\n",
       "42  3.744583  3.912264  3.978213  4.051159  3.545238  3.692936  3.878445\n",
       "43  4.178193  3.894866  3.856544  3.681150  4.097157  3.936912  3.750606\n",
       "44  3.764679  4.202435  4.194238  3.891435  3.569465  3.728996  4.246685\n",
       "45  4.238633  3.598067  3.318662  3.873183  4.185194  3.892458  3.804219\n",
       "46  4.197137  3.934293  4.158752  3.962129  4.041694  4.059545  4.053266\n",
       "47  4.038311  4.269372  4.090295  4.071770  3.812386  4.094315  4.238080\n",
       "48  4.091958  3.728741  3.751738  4.078130  4.086348  3.939249  3.953538\n",
       "49  4.046975  4.001275  3.824218  4.176925  4.051377  4.131814  3.890877"
      ]
     },
     "execution_count": 36,
     "metadata": {},
     "output_type": "execute_result"
    }
   ],
   "source": [
    "data = pd.DataFrame([drug1,drug2,drug3,drug4,drug5,drug6,drug7]).T\n",
    "data.columns = [\"drug1\",\"drug2\",\"drug3\",\"drug4\",\"drug5\",\"drug6\",\"drug7\"]\n",
    "data"
   ]
  },
  {
   "cell_type": "code",
   "execution_count": 37,
   "id": "0c1ebff6",
   "metadata": {},
   "outputs": [
    {
     "data": {
      "text/plain": [
       "3.9884459808791015"
      ]
     },
     "execution_count": 37,
     "metadata": {},
     "output_type": "execute_result"
    }
   ],
   "source": [
    "np.mean(np.mean(data,axis = 0)) # overall mean"
   ]
  },
  {
   "cell_type": "code",
   "execution_count": 38,
   "id": "3b9ed96e",
   "metadata": {},
   "outputs": [
    {
     "data": {
      "text/plain": [
       "drug1    4.030662\n",
       "drug2    3.999951\n",
       "drug3    3.969051\n",
       "drug4    3.967162\n",
       "drug5    4.007061\n",
       "drug6    3.960366\n",
       "drug7    3.984868\n",
       "dtype: float64"
      ]
     },
     "execution_count": 38,
     "metadata": {},
     "output_type": "execute_result"
    }
   ],
   "source": [
    "column_means = np.mean(data,axis = 0)\n",
    "column_means"
   ]
  },
  {
   "cell_type": "code",
   "execution_count": 39,
   "id": "d914f165",
   "metadata": {},
   "outputs": [
    {
     "data": {
      "text/plain": [
       "3.988445980879102"
      ]
     },
     "execution_count": 39,
     "metadata": {},
     "output_type": "execute_result"
    }
   ],
   "source": [
    "overall_mean = np.sum(np.sum(data,axis = 0))/(len(data)*len(data.columns))\n",
    "overall_mean"
   ]
  },
  {
   "cell_type": "code",
   "execution_count": 40,
   "id": "3db63675",
   "metadata": {},
   "outputs": [
    {
     "data": {
      "text/plain": [
       "0.1945774341144766"
      ]
     },
     "execution_count": 40,
     "metadata": {},
     "output_type": "execute_result"
    }
   ],
   "source": [
    "\n",
    "SSC = np.sum((column_means-overall_mean)**2) * len(data)\n",
    "SSC"
   ]
  },
  {
   "cell_type": "code",
   "execution_count": 41,
   "id": "a4588ab5",
   "metadata": {},
   "outputs": [
    {
     "data": {
      "text/plain": [
       "drug1    4.030662\n",
       "drug2    3.999951\n",
       "drug3    3.969051\n",
       "drug4    3.967162\n",
       "drug5    4.007061\n",
       "drug6    3.960366\n",
       "drug7    3.984868\n",
       "dtype: float64"
      ]
     },
     "execution_count": 41,
     "metadata": {},
     "output_type": "execute_result"
    }
   ],
   "source": [
    "column_means"
   ]
  },
  {
   "cell_type": "code",
   "execution_count": 42,
   "id": "4d1be966",
   "metadata": {},
   "outputs": [
    {
     "data": {
      "text/plain": [
       "13.323466119174833"
      ]
     },
     "execution_count": 42,
     "metadata": {},
     "output_type": "execute_result"
    }
   ],
   "source": [
    "SSE = 0\n",
    "for group in data.columns:\n",
    "    SSE += np.sum((data[group]-np.mean(data[group]))**2)\n",
    "SSE"
   ]
  },
  {
   "cell_type": "code",
   "execution_count": 43,
   "id": "aa1f8666",
   "metadata": {},
   "outputs": [
    {
     "data": {
      "text/plain": [
       "3.988445980879102"
      ]
     },
     "execution_count": 43,
     "metadata": {},
     "output_type": "execute_result"
    }
   ],
   "source": [
    "overall_mean"
   ]
  },
  {
   "cell_type": "code",
   "execution_count": 44,
   "id": "8f0e3d25",
   "metadata": {},
   "outputs": [
    {
     "data": {
      "text/plain": [
       "13.518043553289317"
      ]
     },
     "execution_count": 44,
     "metadata": {},
     "output_type": "execute_result"
    }
   ],
   "source": [
    "SST = 0\n",
    "\n",
    "for grp in data.columns:\n",
    "    for ele in data[grp]:\n",
    "        SST += np.sum((ele-overall_mean)**2)\n",
    "SST"
   ]
  },
  {
   "cell_type": "code",
   "execution_count": 45,
   "id": "37252326",
   "metadata": {},
   "outputs": [
    {
     "data": {
      "text/plain": [
       "13.51804355328931"
      ]
     },
     "execution_count": 45,
     "metadata": {},
     "output_type": "execute_result"
    }
   ],
   "source": [
    "SST = SSC+SSE\n",
    "SST"
   ]
  },
  {
   "cell_type": "code",
   "execution_count": 46,
   "id": "c1c83283",
   "metadata": {},
   "outputs": [
    {
     "data": {
      "text/plain": [
       "350"
      ]
     },
     "execution_count": 46,
     "metadata": {},
     "output_type": "execute_result"
    }
   ],
   "source": [
    "n = len(data)* len(data.columns)\n",
    "n"
   ]
  },
  {
   "cell_type": "code",
   "execution_count": 47,
   "id": "ba08c48e",
   "metadata": {},
   "outputs": [
    {
     "data": {
      "text/plain": [
       "7"
      ]
     },
     "execution_count": 47,
     "metadata": {},
     "output_type": "execute_result"
    }
   ],
   "source": [
    "c = len(data.columns)\n",
    "c\n"
   ]
  },
  {
   "cell_type": "code",
   "execution_count": 48,
   "id": "49894382",
   "metadata": {},
   "outputs": [
    {
     "data": {
      "text/plain": [
       "(0.03242957235241276, 0.038843924545699224)"
      ]
     },
     "execution_count": 48,
     "metadata": {},
     "output_type": "execute_result"
    }
   ],
   "source": [
    "MSC = SSC/(c-1)\n",
    "MSE = SSE/ (n-c)\n",
    "MSC,MSE"
   ]
  },
  {
   "cell_type": "code",
   "execution_count": 49,
   "id": "5bfda10f",
   "metadata": {},
   "outputs": [
    {
     "data": {
      "text/plain": [
       "0.8348685858005906"
      ]
     },
     "execution_count": 49,
     "metadata": {},
     "output_type": "execute_result"
    }
   ],
   "source": [
    "F_ratio = MSC/MSE\n",
    "F_ratio"
   ]
  },
  {
   "cell_type": "code",
   "execution_count": 51,
   "id": "2cbf68a9",
   "metadata": {},
   "outputs": [
    {
     "name": "stdout",
     "output_type": "stream",
     "text": [
      "0.5435704537121875\n",
      "2.1250365781660565\n"
     ]
    }
   ],
   "source": [
    "p_value = 1-stats.f.cdf(F_ratio,c-1,n-c)\n",
    "print(p_value )\n",
    "\n",
    "F_critical = stats.f.ppf(0.95,c-1,n-c)\n",
    "print(F_critical)"
   ]
  },
  {
   "cell_type": "code",
   "execution_count": 52,
   "id": "f4fd8238",
   "metadata": {},
   "outputs": [
    {
     "data": {
      "text/plain": [
       "F_onewayResult(statistic=0.8348685858006079, pvalue=0.543570453712175)"
      ]
     },
     "execution_count": 52,
     "metadata": {},
     "output_type": "execute_result"
    }
   ],
   "source": [
    "stats.f_oneway(data[\"drug1\"],\n",
    "              data[\"drug2\"],\n",
    "              data[\"drug3\"],\n",
    "              data[\"drug4\"],\n",
    "              data[\"drug5\"],\n",
    "              data[\"drug6\"],\n",
    "               data[\"drug7\"],\n",
    "              )"
   ]
  },
  {
   "cell_type": "code",
   "execution_count": 53,
   "id": "46250adb",
   "metadata": {},
   "outputs": [
    {
     "name": "stdout",
     "output_type": "stream",
     "text": [
      "all population means are same\n",
      "all population means are same\n"
     ]
    }
   ],
   "source": [
    "if F_ratio > F_critical:\n",
    "    print(\"reject null, all populations means are different \")\n",
    "else:\n",
    "    print(\"all population means are same\")\n",
    "    \n",
    "if p_value < 0.05:\n",
    "    print(\"reject null, all populations means are different \")\n",
    "else:\n",
    "    print(\"all population means are same\")"
   ]
  },
  {
   "cell_type": "code",
   "execution_count": 54,
   "id": "c6119152",
   "metadata": {},
   "outputs": [
    {
     "data": {
      "text/plain": [
       "<AxesSubplot:ylabel='Density'>"
      ]
     },
     "execution_count": 54,
     "metadata": {},
     "output_type": "execute_result"
    },
    {
     "data": {
      "image/png": "[encoded data removed]",
      "text/plain": [
       "<Figure size 640x480 with 1 Axes>"
      ]
     },
     "metadata": {},
     "output_type": "display_data"
    }
   ],
   "source": [
    "sns.kdeplot(drug1)\n",
    "sns.kdeplot(drug2)\n",
    "sns.kdeplot(drug3)\n",
    "sns.kdeplot(drug4)\n",
    "sns.kdeplot(drug5)\n",
    "sns.kdeplot(drug6)\n",
    "sns.kdeplot(drug7)"
   ]
  },
  {
   "cell_type": "code",
   "execution_count": 55,
   "id": "70e5f4c4",
   "metadata": {},
   "outputs": [],
   "source": [
    " # one-way anova with same sample sizes. "
   ]
  },
  {
   "cell_type": "code",
   "execution_count": 56,
   "id": "044bc3bd",
   "metadata": {},
   "outputs": [],
   "source": [
    "def one_way_ANOVA(*X):\n",
    "    data = pd.DataFrame(X).T\n",
    "    print(data)\n",
    "    column_means = np.mean(data,axis = 0)\n",
    "    print()\n",
    "    \n",
    "    print(column_means)\n",
    "    print()\n",
    "    overall_mean = np.sum(np.sum(data,axis = 0))/(len(data)*len(data.columns))\n",
    "    print(overall_mean)\n",
    "    SSC = 0\n",
    "    SSC = np.sum((column_means-overall_mean)**2) * len(data)\n",
    "    \n",
    "    SSE = 0\n",
    "    for group in data.columns:\n",
    "        SSE += np.sum((data[group]-np.mean(data[group]))**2)\n",
    "        \n",
    "    SST = 0\n",
    "    for grp in data.columns:\n",
    "        for ele in data[grp]:\n",
    "            SST += np.sum((ele-overall_mean)**2)\n",
    "    \n",
    "    n = len(data)* len(data.columns)\n",
    "    c = len(data.columns)\n",
    "    print(n,c)\n",
    "    MSC = SSC/(c-1)\n",
    "    MSE = SSE/ (n-c)\n",
    "    F_ratio = MSC/MSE\n",
    "    \n",
    "    print()\n",
    "    print(\"SSC:\",SSC)\n",
    "    print(\"MSC:\",MSC)\n",
    "    print(\"SSE:\",SSE)\n",
    "    print(\"MSE:\",MSE)\n",
    "    print()\n",
    "    \n",
    "    print(\"F-Ratio: \",F_ratio)\n",
    "    p_value = 1-stats.f.cdf(F_ratio,c-1,n-c)\n",
    "    F_critical = stats.f.ppf(0.95,c-1,n-c)\n",
    "    print(\"F_critical : \",F_critical)\n",
    "    \n",
    "    print(\"Results : \")\n",
    "    if F_ratio > F_critical:\n",
    "        print(\"reject null, all populations means are different \")\n",
    "    else:\n",
    "        print(\"all population means are same\")\n",
    "    \n",
    "    \n",
    "    if p_value < 0.05:\n",
    "        print(\"reject null, all populations means are different \")\n",
    "    else:\n",
    "        print(\"all population means are same\")\n",
    "    return F_ratio,p_value\n",
    "              "
   ]
  },
  {
   "cell_type": "code",
   "execution_count": 57,
   "id": "783c0697",
   "metadata": {},
   "outputs": [
    {
     "name": "stdout",
     "output_type": "stream",
     "text": [
      "    0   1   2   3\n",
      "0   8  12  18  13\n",
      "1  10  11  12   9\n",
      "2  12   9  16  12\n",
      "3   8  14   6  16\n",
      "4   7   4   8  15\n",
      "\n",
      "0     9.0\n",
      "1    10.0\n",
      "2    12.0\n",
      "3    13.0\n",
      "dtype: float64\n",
      "\n",
      "11.0\n",
      "20 4\n",
      "\n",
      "SSC: 50.0\n",
      "MSC: 16.666666666666668\n",
      "SSE: 208.0\n",
      "MSE: 13.0\n",
      "\n",
      "F-Ratio:  1.2820512820512822\n",
      "F_critical :  3.238871517453585\n",
      "Results : \n",
      "all population means are same\n",
      "all population means are same\n"
     ]
    },
    {
     "data": {
      "text/plain": [
       "(1.2820512820512822, 0.3143594700488932)"
      ]
     },
     "execution_count": 57,
     "metadata": {},
     "output_type": "execute_result"
    }
   ],
   "source": [
    "one_way_ANOVA([8,10,12,8,7],[12,11,9,14,4],[18,12,16,6,8],[13,9,12,16,15])"
   ]
  },
  {
   "cell_type": "code",
   "execution_count": 58,
   "id": "b48dfb50",
   "metadata": {},
   "outputs": [
    {
     "name": "stdout",
     "output_type": "stream",
     "text": [
      "      0     1\n",
      "0  40.0  39.0\n",
      "1  30.0  38.0\n",
      "2  38.0  41.0\n",
      "3  41.0  33.0\n",
      "4  38.0  32.0\n",
      "5  35.0  39.0\n",
      "6   NaN  40.0\n",
      "7   NaN  34.0\n",
      "\n",
      "0    37.0\n",
      "1    37.0\n",
      "dtype: float64\n",
      "\n",
      "32.375\n",
      "16 2\n",
      "\n",
      "SSC: 342.25\n",
      "MSC: 342.25\n",
      "SSE: 164.0\n",
      "MSE: 11.714285714285714\n",
      "\n",
      "F-Ratio:  29.21646341463415\n",
      "F_critical :  4.600109936669421\n",
      "Results : \n",
      "reject null, all populations means are different \n",
      "reject null, all populations means are different \n"
     ]
    },
    {
     "data": {
      "text/plain": [
       "(29.21646341463415, 9.273476088944577e-05)"
      ]
     },
     "execution_count": 58,
     "metadata": {},
     "output_type": "execute_result"
    }
   ],
   "source": [
    "one_way_ANOVA([40,30,38,41,38,35],[39,38,41,33,32,39,40,34])"
   ]
  },
  {
   "cell_type": "code",
   "execution_count": 62,
   "id": "ec768641",
   "metadata": {},
   "outputs": [
    {
     "data": {
      "text/plain": [
       "F_onewayResult(statistic=0.0, pvalue=1.0)"
      ]
     },
     "execution_count": 62,
     "metadata": {},
     "output_type": "execute_result"
    }
   ],
   "source": []
  },
  {
   "cell_type": "code",
   "execution_count": null,
   "id": "036fcd38",
   "metadata": {},
   "outputs": [],
   "source": []
  }
 ],
 "metadata": {
  "kernelspec": {
   "display_name": "Python 3 (ipykernel)",
   "language": "python",
   "name": "python3"
  },
  "language_info": {
   "codemirror_mode": {
    "name": "ipython",
    "version": 3
   },
   "file_extension": ".py",
   "mimetype": "text/x-python",
   "name": "python",
   "nbconvert_exporter": "python",
   "pygments_lexer": "ipython3",
   "version": "3.9.13"
  }
 },
 "nbformat": 4,
 "nbformat_minor": 5
}
